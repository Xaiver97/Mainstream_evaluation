{
 "cells": [
  {
   "cell_type": "code",
   "execution_count": 5,
   "metadata": {},
   "outputs": [],
   "source": [
    "import numpy as np\n",
    "import pickle\n",
    "import pandas as pd\n",
    "from tqdm import tqdm\n",
    "from math import log\n",
    "from scipy.sparse import coo_matrix\n",
    "from sklearn.neighbors import LocalOutlierFactor\n",
    "import torch"
   ]
  },
  {
   "cell_type": "code",
   "execution_count": 2,
   "metadata": {},
   "outputs": [],
   "source": [
    "datasets = ['BookCrossing', 'Epinions', 'LFM360K', 'ML1M', 'ML20M', 'Yelp']"
   ]
  },
  {
   "cell_type": "code",
   "execution_count": null,
   "metadata": {},
   "outputs": [],
   "source": [
    "for dataset in datasets:\n",
    "    print(dataset, \"- start evaluating\")\n",
    "    with open('../../mod_data/data_statistic.pkl' , 'rb') as f:\n",
    "        info = pickle.load(f)\n",
    "        num_user = info[dataset][0]\n",
    "        num_item = info[dataset][1]\n",
    "\n",
    "    train_df = pd.read_csv('../../mod_data/' + dataset+ '/sep_data/train_df.csv')\n",
    "\n",
    "    pos_user_array = train_df['userId'].values\n",
    "    pos_item_array = train_df['itemId'].values\n",
    "\n",
    "    # Evaluate mainstreaminess by similarity-based approach\n",
    "    train_mat = coo_matrix((np.ones(len(pos_user_array), dtype=int), (pos_user_array, pos_item_array)), shape=(num_user, num_item)).toarray()\n",
    "    user_pop = np.sum(train_mat, axis=1)\n",
    "    Jaccard_mat = np.matmul(train_mat, train_mat.T)\n",
    "    deno = user_pop.reshape((-1, 1)) + user_pop.reshape((1, -1)) - Jaccard_mat + 1e-7\n",
    "    deno = np.array(deno, dtype='float32')\n",
    "    Jaccard_mat = np.array(Jaccard_mat, dtype='float32')\n",
    "    Jaccard_mat /= deno\n",
    "    Jaccard_mat = Jaccard_mat + np.eye(num_user) * -9999\n",
    "    Jaccard_mat = Jaccard_mat[np.where(Jaccard_mat > -1)].reshape((num_user, num_user - 1))\n",
    "    MS_similarity = np.mean(Jaccard_mat, axis=1)\n",
    "    with open('../mainstream_score/' + dataset+  '/MS_similarity.npy', \"wb\") as f:\n",
    "        np.save(f, MS_similarity)\n",
    "    print(\"complete the similarity-based approach\")\n",
    "\n",
    "    # Evaluate mainstreaminess by distribution-based approach\n",
    "    avg_user = np.mean(train_mat, axis=0)\n",
    "    MS_distribution = np.matmul(train_mat, avg_user.reshape((-1, 1))).reshape(-1)\n",
    "    deno1 = np.sum(train_mat ** 2, axis=1) ** 0.5\n",
    "    deno2 = np.sum(avg_user ** 2) ** 0.5\n",
    "    MS_distribution = MS_distribution / deno1 / deno2\n",
    "    with open('../mainstream_score/' + dataset+ '/MS_distribution.npy', \"wb\") as f:\n",
    "        np.save(f, MS_distribution)\n",
    "    print(\"complete the distribution-based approach\")\n",
    "\n",
    "    # Evaluate mainstreaminess by density-based approach\n",
    "    clf = LocalOutlierFactor(n_neighbors=300, n_jobs=-1)\n",
    "    clf.fit(train_mat)\n",
    "    MS_density = -clf.negative_outlier_factor_\n",
    "    with open('../mainstream_score/' + dataset+  '/MS_density.npy', \"wb\") as f:\n",
    "        np.save(f, MS_density)\n",
    "    print(\"complete the density-based approach\")\n",
    "\n",
    "    Evaluate mainstreaminess by our approach\n",
    "    train_mat = coo_matrix((np.ones(len(pos_user_array), dtype=int), (pos_user_array, pos_item_array)), shape=(num_user, num_item)).toarray()\n",
    "    user_pop = np.sum(train_mat, axis=1)\n",
    "    item_pop = np.sum(train_mat, axis=0)\n",
    "\n",
    "    item_logpop = []\n",
    "    for i in item_pop:\n",
    "        item_logpop.append(np.log2(i+1))\n",
    "\n",
    "    MS_ours = []\n",
    "    for i in range(train_mat.shape[0]):\n",
    "        user_mainscore_sum = 0.0\n",
    "        for uid in np.where(train_mat[i] != 0)[0]:\n",
    "            user_mainscore_sum += item_logpop[uid]\n",
    "        MS_ours.append(user_mainscore_sum / user_pop[i])\n",
    "\n",
    "    with open('../mainstream_score/' + dataset+ '/MS_ours.npy', \"wb\") as f:\n",
    "        np.save(f, MS_ours)\n",
    "    print(\"complete our approach\")\n",
    "    print(\"----------------------------------------------------\")"
   ]
  }
 ],
 "metadata": {
  "interpreter": {
   "hash": "907aeb4e8b69d3749718ea2f018ea403fed4114cf6a38aa67c8afab41dba42e5"
  },
  "kernelspec": {
   "display_name": "Python 3.8.12 ('myenv')",
   "language": "python",
   "name": "python3"
  },
  "language_info": {
   "codemirror_mode": {
    "name": "ipython",
    "version": 3
   },
   "file_extension": ".py",
   "mimetype": "text/x-python",
   "name": "python",
   "nbconvert_exporter": "python",
   "pygments_lexer": "ipython3",
   "version": "3.8.13"
  },
  "orig_nbformat": 4
 },
 "nbformat": 4,
 "nbformat_minor": 2
}
